{
 "cells": [
  {
   "cell_type": "code",
   "execution_count": 1,
   "metadata": {},
   "outputs": [],
   "source": [
    "from a_star.two_d_map import map2D\n",
    "from a_star.a_star_solver import aStar\n",
    "from safty_ellipse.safty_area import safetyEllipse\n",
    "import numpy as np\n",
    "import matplotlib.pyplot as plt\n",
    "import scipy.io as sio"
   ]
  },
  {
   "cell_type": "code",
   "execution_count": 5,
   "metadata": {},
   "outputs": [],
   "source": [
    "def warehouse():\n",
    "    test_map = np.zeros((1000, 2000))\n",
    "    test_map[0, :] = 1\n",
    "    test_map[999, :] = 1\n",
    "    test_map[:, 0] = 1\n",
    "    test_map[:, 1999] = 1\n",
    "    test_map[50:100, 50:350] = 1\n",
    "    test_map[150:200, 50:350] = 1\n",
    "    test_map[250:300, 50:350] = 1\n",
    "    test_map[350:450, 50:350] = 1\n",
    "    test_map[500:600, 50:350] = 1\n",
    "    test_map[650:950, 50:100] = 1\n",
    "    test_map[650:950, 150:250] = 1\n",
    "    test_map[650:950, 300:350] = 1\n",
    "    test_map[50:350, 450:550] = 1\n",
    "    test_map[50:150, 550:750] = 1\n",
    "    test_map[200:250, 600:750] = 1\n",
    "    test_map[300:350, 600:750] = 1\n",
    "    test_map[400:650, 450:600] = 1\n",
    "    test_map[700:950, 450:600] = 1\n",
    "    test_map[400:500, 650:750] = 1\n",
    "    test_map[550:650, 650:750] = 1\n",
    "    test_map[700:800, 650:750] = 1\n",
    "    test_map[850:950, 650:750] = 1\n",
    "    test_map[50:150, 850:1150] = 1\n",
    "    test_map[150:350, 1050:1150] = 1\n",
    "\n",
    "    test_map[400:950, 1050:1150] = 1\n",
    "    test_map[750:950, 1000:1050] = 1\n",
    "\n",
    "    for pixelRow in range(400, 550):\n",
    "        for pixelCol in range(850, 1000):\n",
    "            if np.linalg.norm(np.array([pixelRow, pixelCol]) - np.array([475, 925])) <= 75:\n",
    "                test_map[pixelRow, pixelCol] = 1\n",
    "\n",
    "    for pixelRow in range(600, 750):\n",
    "        for pixelCol in range(850, 1000):\n",
    "            if np.linalg.norm(np.array([pixelRow, pixelCol]) - np.array([675, 925])) <= 75:\n",
    "                test_map[pixelRow, pixelCol] = 1\n",
    "\n",
    "    test_map[800:950, 850:950] = 1\n",
    "    test_map[50:100, 1250:1950] = 1\n",
    "    test_map[150:200, 1250:1950] = 1\n",
    "    test_map[250:300, 1250:1950] = 1\n",
    "    test_map[350:500, 1250:1950] = 1\n",
    "    test_map[550:700, 1250:1950] = 1\n",
    "    test_map[750:950, 1250:1300] = 1\n",
    "    test_map[800:900, 1300:1400] = 1\n",
    "    test_map[750:950, 1400:1450] = 1\n",
    "    test_map[750:950, 1500:1550] = 1\n",
    "    test_map[800:900, 1550:1650] = 1\n",
    "    test_map[750:950, 1650:1700] = 1\n",
    "    test_map[750:950, 1750:1800] = 1\n",
    "    test_map[800:900, 1800:1900] = 1\n",
    "    test_map[750:950, 1900:1950] = 1\n",
    "    return test_map\n",
    "\n",
    "\n",
    "def ballooned_warehouse():\n",
    "    test_map = np.zeros((1000, 2000))\n",
    "    test_map[0, :] = 1\n",
    "    test_map[999, :] = 1\n",
    "    test_map[:, 0] = 1\n",
    "    test_map[:, 1999] = 1\n",
    "    test_map[40:110, 40:360] = 1\n",
    "    test_map[140:210, 40:360] = 1\n",
    "    test_map[240:310, 40:360] = 1\n",
    "    test_map[340:460, 40:360] = 1\n",
    "    test_map[500:610, 40:360] = 1\n",
    "    test_map[640:960, 40:110] = 1\n",
    "    test_map[640:960, 140:260] = 1\n",
    "    test_map[640:960, 290:360] = 1\n",
    "    test_map[40:360, 440:560] = 1\n",
    "    test_map[40:160, 540:760] = 1\n",
    "    test_map[190:260, 590:760] = 1\n",
    "    test_map[290:360, 590:760] = 1\n",
    "    test_map[390:660, 440:610] = 1\n",
    "    test_map[690:960, 440:610] = 1\n",
    "    test_map[390:510, 640:760] = 1\n",
    "    test_map[540:660, 640:760] = 1\n",
    "    test_map[690:810, 640:760] = 1\n",
    "    test_map[840:960, 640:760] = 1\n",
    "    test_map[40:160, 840:1160] = 1\n",
    "    test_map[140:360, 1040:1160] = 1\n",
    "\n",
    "    test_map[390:960, 1040:1160] = 1\n",
    "    test_map[740:960, 990:1060] = 1\n",
    "\n",
    "    for pixelRow in range(390, 560):\n",
    "        for pixelCol in range(840, 1010):\n",
    "            if np.linalg.norm(np.array([pixelRow, pixelCol]) - np.array([475, 925])) <= 85:\n",
    "                test_map[pixelRow, pixelCol] = 1\n",
    "\n",
    "    for pixelRow in range(590, 760):\n",
    "        for pixelCol in range(840, 1010):\n",
    "            if np.linalg.norm(np.array([pixelRow, pixelCol]) - np.array([675, 925])) <= 85:\n",
    "                test_map[pixelRow, pixelCol] = 1\n",
    "\n",
    "    test_map[790:960, 840:960] = 1\n",
    "    test_map[40:110, 1240:1960] = 1\n",
    "    test_map[140:210, 1240:1960] = 1\n",
    "    test_map[240:310, 1240:1960] = 1\n",
    "    test_map[340:510, 1240:1960] = 1\n",
    "    test_map[540:710, 1240:1960] = 1\n",
    "    test_map[740:960, 1240:1310] = 1\n",
    "    test_map[790:910, 1290:1410] = 1\n",
    "    test_map[740:960, 1390:1460] = 1\n",
    "    test_map[740:960, 1490:1560] = 1\n",
    "    test_map[790:910, 1540:1660] = 1\n",
    "    test_map[740:960, 1640:1710] = 1\n",
    "    test_map[740:960, 1740:1810] = 1\n",
    "    test_map[790:910, 1790:1910] = 1\n",
    "    test_map[740:960, 1890:1960] = 1\n",
    "    return test_map"
   ]
  },
  {
   "cell_type": "code",
   "execution_count": 9,
   "metadata": {},
   "outputs": [],
   "source": [
    "warehouse_map =  map2D(warehouse())\n",
    "warehouse_balloon = map2D(ballooned_warehouse())"
   ]
  },
  {
   "cell_type": "markdown",
   "metadata": {},
   "source": [
    "#### astar on original map"
   ]
  },
  {
   "cell_type": "code",
   "execution_count": 10,
   "metadata": {},
   "outputs": [
    {
     "name": "stdout",
     "output_type": "stream",
     "text": [
      "start astar searching on original map\n",
      "astar finished!\n"
     ]
    },
    {
     "data": {
      "image/png": "[encoded data removed]",
      "text/plain": [
       "<Figure size 432x288 with 1 Axes>"
      ]
     },
     "metadata": {
      "needs_background": "light"
     },
     "output_type": "display_data"
    }
   ],
   "source": [
    "astar_solver = aStar(warehouse_map)\n",
    "start_p = np.array([20, 20])\n",
    "end_p = np.array([980, 1980])\n",
    "print(\"start astar searching on original map\")\n",
    "path = np.array(astar_solver.path_plan(start_p, end_p, visual=False, draw_count=100000))\n",
    "filter_path = np.array(astar_solver.line_fitter(path))\n",
    "sio.savemat(\"./warehouse1/astar_warehouse_oritingal_path.mat\", {'astar_result_oritingal_wholepath': path,\n",
    "                                                              'astar_result_oritingal_filterpath': filter_path})\n",
    "# render the path and the final result\n",
    "path_y = filter_path.T[0]\n",
    "path_x = filter_path.T[1]\n",
    "sio.savemat(\"./warehouse1/astar_warehouse.mat\", {'astar_result_original': warehouse_map.color_stat})\n",
    "img_result = astar_solver.map2d.render_image()\n",
    "plt.imshow(img_result)\n",
    "plt.plot(path_x, path_y)\n",
    "plt.savefig('./warehouse1/warehouse_astar_original.png', dpi=400)\n",
    "plt.show()\n",
    "# print final result\n",
    "# print(\"Filtered path: {}\".format(filter_path))"
   ]
  },
  {
   "cell_type": "code",
   "execution_count": 11,
   "metadata": {},
   "outputs": [
    {
     "name": "stdout",
     "output_type": "stream",
     "text": [
      "start astar searching on ballooned map\n",
      "astar finished!\n"
     ]
    },
    {
     "data": {
      "image/png": "[encoded data removed]",
      "text/plain": [
       "<Figure size 432x288 with 1 Axes>"
      ]
     },
     "metadata": {
      "needs_background": "light"
     },
     "output_type": "display_data"
    }
   ],
   "source": [
    "astar_solver = aStar(warehouse_balloon)\n",
    "start_p = np.array([20, 20])\n",
    "end_p = np.array([980, 1980])\n",
    "print(\"start astar searching on ballooned map\")\n",
    "path = np.array(astar_solver.path_plan(start_p, end_p, visual=False, draw_count=100000))\n",
    "filter_path = np.array(astar_solver.line_fitter(path))\n",
    "sio.savemat(\"./warehouse1/astar_warehouse_balloon_path.mat\", {'astar_result_balloon_wholepath': path,\n",
    "                                                              'astar_result_balloon_filterpath': filter_path})\n",
    "# filter_path = np.array([[20, 20],\n",
    "#                          [25, 26],\n",
    "#                          [26, 746],\n",
    "#                          [120, 839],\n",
    "#                          [160, 840],\n",
    "#                          [388, 1069],\n",
    "#                          [389, 1159],\n",
    "#                          [470, 1239],\n",
    "#                          [710, 1240],\n",
    "#                          [710, 1241],\n",
    "#                          [711, 1592],\n",
    "#                          [737, 1619],\n",
    "#                          [738, 1708],\n",
    "#                          [770, 1739],\n",
    "#                          [960, 1740],\n",
    "#                          [980, 1761],\n",
    "#                          [980, 1980]])\n",
    "# render the path and the final result\n",
    "path_y = filter_path.T[0]\n",
    "path_x = filter_path.T[1]\n",
    "sio.savemat(\"./warehouse1/astar_warehouse_balloon.mat\", {'astar_result_balloon': warehouse_balloon.color_stat})\n",
    "img_result = astar_solver.map2d.render_image()\n",
    "plt.imshow(img_result)\n",
    "plt.plot(path_x, path_y)\n",
    "plt.savefig('./warehouse1/warehouse_astar_balloon.png', dpi=400)\n",
    "plt.show()"
   ]
  },
  {
   "cell_type": "code",
   "execution_count": 4,
   "metadata": {},
   "outputs": [
    {
     "name": "stdout",
     "output_type": "stream",
     "text": [
      "calculate start.\n",
      "calculate finish, start rendering.\n"
     ]
    },
    {
     "data": {
      "image/png": "[encoded data removed]",
      "text/plain": [
       "<Figure size 432x288 with 1 Axes>"
      ]
     },
     "metadata": {
      "needs_background": "light"
     },
     "output_type": "display_data"
    },
    {
     "data": {
      "image/png": "[encoded data removed]",
      "text/plain": [
       "<Figure size 432x288 with 1 Axes>"
      ]
     },
     "metadata": {
      "needs_background": "light"
     },
     "output_type": "display_data"
    }
   ],
   "source": [
    "path_out = [[20, 20],\n",
    "             [25, 26],\n",
    "             [26, 746],\n",
    "             [120, 839],\n",
    "             [160, 840],\n",
    "             [388, 1069],\n",
    "             [389, 1159],\n",
    "             [470, 1239],\n",
    "             [710, 1240],\n",
    "             [710, 1241],\n",
    "             [711, 1592],\n",
    "             [737, 1619],\n",
    "             [738, 1708],\n",
    "             [770, 1739],\n",
    "             [960, 1740],\n",
    "             [980, 1761],\n",
    "             [980, 1980]]\n",
    "warehouse_map =  map2D(warehouse())\n",
    "path = np.array(path_out)\n",
    "path_y = path.T[0]\n",
    "path_x = path.T[1]\n",
    "print(\"calculate start.\")\n",
    "safety_ellipse = safetyEllipse(warehouse_map, 100)\n",
    "cons_list, ellipse_list = safety_ellipse.ellipse_generate(path)\n",
    "print(\"calculate finish, start rendering.\")\n",
    "img_result = safety_ellipse.map2d.render_image()\n",
    "plt.imshow(img_result)\n",
    "plt.ylim(0, 1000)\n",
    "plt.xlim(0, 2000)\n",
    "plt.gca().invert_yaxis()\n",
    "plt.savefig('./warehouse1/warehouse_no_ellipse.png', dpi=400)\n",
    "plt.show()\n",
    "sio.savemat(\"./warehouse1/warehouse1_constraints_map.mat\",\n",
    "           {'warehouse1_map': safety_ellipse.map2d.color_stat})\n",
    "\n",
    "plt.imshow(img_result)\n",
    "for elli_stack in ellipse_list:\n",
    "    for ellipse in elli_stack:\n",
    "        single_ellipse = safety_ellipse.ellipse_mesh(ellipse)\n",
    "        plt.plot(single_ellipse[0], single_ellipse[1], linewidth=0.3)\n",
    "plt.ylim(0, 1000)\n",
    "plt.xlim(0, 2000)\n",
    "plt.plot(path_x, path_y, linewidth=0.5)\n",
    "plt.gca().invert_yaxis()\n",
    "plt.savefig('./warehouse1/warehouse_ellipse.png', dpi=400)\n",
    "plt.show()\n",
    "sio.savemat(\"./warehouse1/warehouse_constraints_data.mat\",\n",
    "            {'path': path_out,\n",
    "             'constraints': cons_list})"
   ]
  },
  {
   "cell_type": "code",
   "execution_count": null,
   "metadata": {},
   "outputs": [],
   "source": []
  }
 ],
 "metadata": {
  "kernelspec": {
   "display_name": "Python 3",
   "language": "python",
   "name": "python3"
  },
  "language_info": {
   "codemirror_mode": {
    "name": "ipython",
    "version": 3
   },
   "file_extension": ".py",
   "mimetype": "text/x-python",
   "name": "python",
   "nbconvert_exporter": "python",
   "pygments_lexer": "ipython3",
   "version": "3.8.1"
  }
 },
 "nbformat": 4,
 "nbformat_minor": 2
}
