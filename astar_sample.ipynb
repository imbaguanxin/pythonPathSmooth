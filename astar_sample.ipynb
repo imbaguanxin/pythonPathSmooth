{
 "cells": [
  {
   "cell_type": "markdown",
   "metadata": {},
   "source": [
    "# import libraries"
   ]
  },
  {
   "cell_type": "code",
   "execution_count": 1,
   "metadata": {},
   "outputs": [],
   "source": [
    "import numpy as np\n",
    "import matplotlib.pyplot as plt\n",
    "from a_star.two_d_map import map2D\n",
    "from a_star.a_star_solver import aStar"
   ]
  },
  {
   "cell_type": "markdown",
   "metadata": {},
   "source": [
    "## Construct map:"
   ]
  },
  {
   "cell_type": "code",
   "execution_count": 2,
   "metadata": {},
   "outputs": [],
   "source": [
    "test_map2 = np.zeros((600, 600))\n",
    "test_map2[0, :] = 1\n",
    "test_map2[599, :] = 1\n",
    "test_map2[:, 0] = 1\n",
    "test_map2[:, 599] = 1\n",
    "test_map2[400:500, 100:200] = 1\n",
    "test_map2[450:550, 350:450] = 1\n",
    "test_map2[200:300, 200:300] = 1\n",
    "test_map2[50:150, 50:150] = 1\n",
    "test_map2[100:320, 500:600] = 1"
   ]
  },
  {
   "cell_type": "markdown",
   "metadata": {},
   "source": [
    "## a star sample:"
   ]
  },
  {
   "cell_type": "code",
   "execution_count": 3,
   "metadata": {},
   "outputs": [
    {
     "data": {
      "image/png": "[encoded data removed]",
      "text/plain": [
       "<Figure size 432x288 with 1 Axes>"
      ]
     },
     "metadata": {
      "needs_background": "light"
     },
     "output_type": "display_data"
    },
    {
     "name": "stdout",
     "output_type": "stream",
     "text": [
      "astar finished!\n"
     ]
    },
    {
     "data": {
      "image/png": "[encoded data removed]",
      "text/plain": [
       "<Figure size 432x288 with 1 Axes>"
      ]
     },
     "metadata": {
      "needs_background": "light"
     },
     "output_type": "display_data"
    },
    {
     "name": "stdout",
     "output_type": "stream",
     "text": [
      "Filtered path: [[ 20  20]\n",
      " [ 50  49]\n",
      " [150  50]\n",
      " [300 201]\n",
      " [301 301]\n",
      " [570 570]]\n"
     ]
    }
   ],
   "source": [
    "test_2d_map = map2D(test_map2)\n",
    "# print the map.\n",
    "plt_img = test_2d_map.render_image()\n",
    "plt.imshow(plt_img)\n",
    "plt.show()\n",
    "# init astar\n",
    "astar_solver = aStar(test_2d_map)\n",
    "start_p = np.array([20, 20])\n",
    "end_p = np.array([570, 570])\n",
    "path = np.array(astar_solver.path_plan(start_p, end_p, visual=False))\n",
    "# find the filtered path\n",
    "filter_path = np.array(astar_solver.line_fitter(path))\n",
    "# render the path and the final result\n",
    "path_y = filter_path.T[0]\n",
    "path_x = filter_path.T[1]\n",
    "img_result = astar_solver.map2d.render_image()\n",
    "plt.imshow(img_result)\n",
    "plt.plot(path_x, path_y)\n",
    "plt.show()\n",
    "# print final result\n",
    "print(\"Filtered path: {}\".format(filter_path))\n"
   ]
  },
  {
   "cell_type": "code",
   "execution_count": null,
   "metadata": {},
   "outputs": [],
   "source": []
  }
 ],
 "metadata": {
  "file_extension": ".py",
  "kernelspec": {
   "display_name": "Python 3",
   "language": "python",
   "name": "python3"
  },
  "language_info": {
   "codemirror_mode": {
    "name": "ipython",
    "version": 3
   },
   "file_extension": ".py",
   "mimetype": "text/x-python",
   "name": "python",
   "nbconvert_exporter": "python",
   "pygments_lexer": "ipython3",
   "version": "3.7.6"
  },
  "mimetype": "text/x-python",
  "name": "python",
  "npconvert_exporter": "python",
  "pygments_lexer": "ipython3",
  "version": 3
 },
 "nbformat": 4,
 "nbformat_minor": 2
}
