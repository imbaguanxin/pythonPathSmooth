{
 "cells": [
  {
   "cell_type": "code",
   "execution_count": 6,
   "metadata": {},
   "outputs": [],
   "source": [
    "from a_star.two_d_map import map2D\n",
    "from a_star.a_star_solver import aStar\n",
    "from safty_ellipse.safty_area import safetyEllipse\n",
    "import numpy as np\n",
    "import matplotlib.pyplot as plt\n",
    "import scipy.io as sio\n",
    "from PIL import Image"
   ]
  },
  {
   "cell_type": "code",
   "execution_count": 7,
   "metadata": {},
   "outputs": [],
   "source": [
    "def load_map_from_pic(path):\n",
    "    image = Image.open(path)\n",
    "    image = image.convert('L')\n",
    "    image = image.convert('1')\n",
    "    data = np.asarray(image)\n",
    "    data = 1 * data\n",
    "    data[0, :] = 0\n",
    "    data[-1, :] = 0\n",
    "    data[:, 0] = 0\n",
    "    data[:, -1] = 0\n",
    "    data = data + 1 - data * 2\n",
    "    return data"
   ]
  },
  {
   "cell_type": "code",
   "execution_count": 31,
   "metadata": {},
   "outputs": [],
   "source": [
    "warehouse_map =  map2D(load_map_from_pic(\"./img/warehouse2_original.bmp\"))\n",
    "warehouse_balloon = map2D(load_map_from_pic(\"./img/warehouse2_balloon.bmp\"))"
   ]
  },
  {
   "cell_type": "code",
   "execution_count": 23,
   "metadata": {},
   "outputs": [
    {
     "name": "stdout",
     "output_type": "stream",
     "text": [
      "start astar searching on original map\n",
      "astar finished!\n"
     ]
    },
    {
     "data": {
      "image/png": "[encoded data removed]",
      "text/plain": [
       "<Figure size 432x288 with 1 Axes>"
      ]
     },
     "metadata": {
      "needs_background": "light"
     },
     "output_type": "display_data"
    }
   ],
   "source": [
    "astar_solver = aStar(warehouse_map)\n",
    "start_p = np.array([20, 20])\n",
    "end_p = np.array([950, 850])\n",
    "print(\"start astar searching on original map\")\n",
    "path = np.array(astar_solver.path_plan(start_p, end_p, visual=False, draw_count=100000))\n",
    "filter_path = np.array(astar_solver.line_fitter(path))\n",
    "filter_path = np.array([[ 20,  20],\n",
    "                         [138, 208],\n",
    "                         [139, 328],\n",
    "                         [160, 375],\n",
    "                         [161, 419],\n",
    "                         [162, 419],\n",
    "                         [177, 420],\n",
    "                         [183, 425],\n",
    "                         [282, 426],\n",
    "                         [364, 509],\n",
    "                         [365, 514],\n",
    "                         [438, 588],\n",
    "                         [439, 632],\n",
    "                         [440, 632],\n",
    "                         [489, 633],\n",
    "                         [582, 727],\n",
    "                         [583, 790],\n",
    "                         [584, 790],\n",
    "                         [891, 791],\n",
    "                         [950, 850]])\n",
    "# render the path and the final result\n",
    "path_y = filter_path.T[0]\n",
    "path_x = filter_path.T[1]\n",
    "sio.savemat(\"./warehouse2/astar_warehouse2.mat\", {'astar_result_original': warehouse_map.color_stat})\n",
    "img_result = astar_solver.map2d.render_image()\n",
    "plt.imshow(img_result)\n",
    "plt.plot(path_x, path_y)\n",
    "plt.savefig('./warehouse2/warehouse2_astar_original.png', dpi=400)\n",
    "plt.show()\n",
    "# print final result\n",
    "# print(\"Filtered path: {}\".format(filter_path))"
   ]
  },
  {
   "cell_type": "code",
   "execution_count": 32,
   "metadata": {},
   "outputs": [
    {
     "name": "stdout",
     "output_type": "stream",
     "text": [
      "start astar searching on ballooned map\n",
      "astar finished!\n"
     ]
    },
    {
     "data": {
      "image/png": "[encoded data removed]",
      "text/plain": [
       "<Figure size 432x288 with 1 Axes>"
      ]
     },
     "metadata": {
      "needs_background": "light"
     },
     "output_type": "display_data"
    }
   ],
   "source": [
    "astar_solver = aStar(warehouse_balloon)\n",
    "start_p = np.array([20, 20])\n",
    "end_p = np.array([980, 850])\n",
    "print(\"start astar searching on ballooned map\")\n",
    "path = np.array(astar_solver.path_plan(start_p, end_p, visual=False, draw_count=100000))\n",
    "filter_path = np.array(astar_solver.line_fitter(path))\n",
    "filter_path = np.array([[ 20,  20],\n",
    "                         [ 32,  31],\n",
    "                         [130, 142],\n",
    "                         [129, 199],\n",
    "                         [130, 338],\n",
    "                         [153, 363],\n",
    "                         [152, 429],\n",
    "                         [175, 430],\n",
    "                         [191, 445],\n",
    "                         [321, 446],\n",
    "                         [355, 481],\n",
    "                         [356, 524],\n",
    "                         [429, 598],\n",
    "                         [428, 640],\n",
    "                         [431, 642],\n",
    "                         [518, 643],\n",
    "                         [573, 699],\n",
    "                         [574, 800],\n",
    "                         [575, 800],\n",
    "                         [931, 801],\n",
    "                         [980, 850]])\n",
    "# render the path and the final result\n",
    "path_y = filter_path.T[0]\n",
    "path_x = filter_path.T[1]\n",
    "sio.savemat(\"./warehouse2/astar_warehouse2_balloon.mat\", {'astar_result_balloon': warehouse_balloon.color_stat})\n",
    "img_result = astar_solver.map2d.render_image()\n",
    "plt.imshow(img_result)\n",
    "plt.plot(path_x, path_y)\n",
    "plt.savefig('./warehouse2/warehouse2_astar_balloon.png', dpi=400)\n",
    "plt.show()"
   ]
  },
  {
   "cell_type": "code",
   "execution_count": 37,
   "metadata": {},
   "outputs": [
    {
     "name": "stdout",
     "output_type": "stream",
     "text": [
      "calculate start.\n",
      "calculate finish, start rendering.\n"
     ]
    },
    {
     "data": {
      "image/png": "[encoded data removed]",
      "text/plain": [
       "<Figure size 432x288 with 1 Axes>"
      ]
     },
     "metadata": {
      "needs_background": "light"
     },
     "output_type": "display_data"
    },
    {
     "data": {
      "image/png": "[encoded data removed]",
      "text/plain": [
       "<Figure size 432x288 with 1 Axes>"
      ]
     },
     "metadata": {
      "needs_background": "light"
     },
     "output_type": "display_data"
    }
   ],
   "source": [
    "path_out = [[ 20,  20],\n",
    "             [ 32,  31],\n",
    "             [130, 142],\n",
    "             [129, 199],\n",
    "             [130, 338],\n",
    "             [153, 363],\n",
    "             [152, 429],\n",
    "             [175, 430],\n",
    "             [191, 445],\n",
    "             [321, 446],\n",
    "             [355, 481],\n",
    "             [356, 524],\n",
    "             [429, 598],\n",
    "             [428, 640],\n",
    "             [431, 642],\n",
    "             [518, 643],\n",
    "             [573, 699],\n",
    "             [574, 800],\n",
    "             [575, 800],\n",
    "             [931, 801],\n",
    "             [980, 850]]\n",
    "warehouse_map =  map2D(load_map_from_pic(\"./img/warehouse2_original.bmp\"))\n",
    "path = np.array(path_out)\n",
    "path_y = path.T[0]\n",
    "path_x = path.T[1]\n",
    "print(\"calculate start.\")\n",
    "safety_ellipse = safetyEllipse(warehouse_map, 50)\n",
    "cons_list, ellipse_list = safety_ellipse.ellipse_generate(path)\n",
    "print(\"calculate finish, start rendering.\")\n",
    "img_result = safety_ellipse.map2d.render_image()\n",
    "plt.imshow(img_result)\n",
    "plt.ylim(0, 1000)\n",
    "plt.xlim(0, 1000)\n",
    "plt.gca().invert_yaxis()\n",
    "plt.savefig('./warehouse2/warehouse2_no_ellipse.png', dpi=400)\n",
    "plt.show()\n",
    "\n",
    "plt.imshow(img_result)\n",
    "for elli_stack in ellipse_list:\n",
    "    for ellipse in elli_stack:\n",
    "        single_ellipse = safety_ellipse.ellipse_mesh(ellipse)\n",
    "        plt.plot(single_ellipse[0], single_ellipse[1], linewidth=0.3)\n",
    "plt.ylim(0, 1000)\n",
    "plt.xlim(0, 1000)\n",
    "plt.plot(path_x, path_y, linewidth=0.8)\n",
    "plt.gca().invert_yaxis()\n",
    "plt.savefig('./warehouse2/warehouse2_ellipse.png', dpi=400)\n",
    "plt.show()\n",
    "sio.savemat(\"./warehouse2/warehouse2_constraints_data.mat\",\n",
    "            {'path': path_out,\n",
    "             'constraints': cons_list})"
   ]
  },
  {
   "cell_type": "code",
   "execution_count": null,
   "metadata": {},
   "outputs": [],
   "source": []
  }
 ],
 "metadata": {
  "kernelspec": {
   "display_name": "Python 3",
   "language": "python",
   "name": "python3"
  },
  "language_info": {
   "codemirror_mode": {
    "name": "ipython",
    "version": 3
   },
   "file_extension": ".py",
   "mimetype": "text/x-python",
   "name": "python",
   "nbconvert_exporter": "python",
   "pygments_lexer": "ipython3",
   "version": "3.7.4"
  }
 },
 "nbformat": 4,
 "nbformat_minor": 2
}
